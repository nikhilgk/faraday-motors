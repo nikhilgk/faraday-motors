{
 "cells": [
  {
   "cell_type": "code",
   "execution_count": 1,
   "metadata": {
    "collapsed": false
   },
   "outputs": [],
   "source": [
    "%matplotlib inline\n",
    "\n",
    "import numpy as np\n",
    "import matplotlib.pyplot as plt\n",
    "from sklearn import metrics\n",
    "from sklearn.naive_bayes import MultinomialNB\n",
    "from sklearn.linear_model import LogisticRegression\n",
    "from sklearn.naive_bayes import BernoulliNB\n",
    "from sklearn.grid_search import GridSearchCV\n",
    "from sklearn.feature_extraction.text import *\n",
    "from sklearn.ensemble import RandomForestClassifier, RandomForestRegressor\n",
    "from sklearn.metrics import accuracy_score\n",
    "from sklearn.metrics import explained_variance_score\n",
    "from sklearn.metrics import mean_absolute_error\n",
    "from sklearn.metrics import mean_squared_error\n",
    "from sklearn.metrics import r2_score\n",
    "import csv\n"
   ]
  },
  {
   "cell_type": "markdown",
   "metadata": {},
   "source": [
    "Load merged data file with charging stations and ACS data aggregated by urban areas. Use raw count of stations as the labels (for now) and picked 10 attributes for modeling.Preprocessed the data into a csv file."
   ]
  },
  {
   "cell_type": "code",
   "execution_count": 2,
   "metadata": {
    "collapsed": false
   },
   "outputs": [
    {
     "name": "stdout",
     "output_type": "stream",
     "text": [
      "(3584,) (3584, 10) 3584 [  0.00000000e+00   2.59770000e+04   1.12890000e+04   6.39206307e+01\n",
      "   1.75000000e+02   2.37000000e+02   7.10000000e+00   7.10000000e+00\n",
      "   2.67000000e+01   1.50000000e+01] 2.0\n",
      "(3584,) (3584, 10) 3584 [  3.00000000e+00   5.62400000e+03   2.05800000e+03   6.68610301e+01\n",
      "   3.20000000e+01   0.00000000e+00   9.40000000e+00   2.00000000e+00\n",
      "   9.20000000e+00   7.00000000e+00] 0.0\n",
      "float64 float64\n",
      "3584 2688\n",
      "(2688, 10) (2688,)\n",
      "(896, 10) (896,)\n",
      "[  2.00000000e+00   7.67500000e+03   3.13200000e+03   5.62260536e+01\n",
      "   3.60000000e+01   4.10000000e+01   8.80000000e+00   4.00000000e+00\n",
      "   1.49000000e+01   1.35000000e+01] 2.0\n",
      "[  2.00000000e+00   4.02800000e+03   1.47400000e+03   5.62415197e+01\n",
      "   1.70000000e+01   0.00000000e+00   8.60000000e+00   5.40000000e+00\n",
      "   1.22000000e+01   1.19000000e+01] 0.0\n",
      "['Incentive', 'Population', 'Households', '% Owning Homes', 'Households $150-200K', 'Households >$200K', 'Total College Grads', 'Total Graduate Degree', '% College Grads', 'Median Income']\n"
     ]
    }
   ],
   "source": [
    "#import the processed urban area charging stations and ACS data\n",
    "# to do: use imputer to handle missing vaules in scikit\n",
    "# http://stackoverflow.com/questions/30317119/classifiers-in-scikit-learn-that-handle-nan-null?lq=1\n",
    "\n",
    "#load urban area data\n",
    "# input vectors for now, we use incentive, population, household, %owning houses, ...\n",
    "X = np.loadtxt(\"data/parsed_urban_area_data.csv\",delimiter = ',',usecols = (1,2,3,4,5,6,7,8,9,10)) \n",
    "#X = np.loadtxt(\"data/parsed_urban_area_data.csv\",delimiter = ',',usecols = (1,3,4,5,6,7,8,9,10))\n",
    "# Above line of code removes population and reran all the models. e.g., LinReg: score went up from 0.71 to 0.77\n",
    "# The results were stable and robust so more confident to stick with raw station count as outcome variable\n",
    "# labels. For now, we use station count\n",
    "Y = np.loadtxt(\"data/parsed_urban_area_data.csv\",delimiter = ',',usecols = (0,),dtype=float)  \n",
    "# feature names\n",
    "feaname = [\"Incentive\",\"Population\",\"Households\",\"% Owning Homes\",\n",
    "          \"Households $150-200K\",\"Households >$200K\", \"Total College Grads\",\n",
    "          \"Total Graduate Degree\",\"% College Grads\",\"Median Income\"] # feature names of the selected attributes\n",
    "\n",
    "# checking input data and labels\n",
    "print Y.shape, X.shape, len(X), X[4], Y[4]\n",
    "\n",
    "# add shuffle code before splitting the data into train and dev sets\n",
    "# easiest shuffle utility is sklearn shuffle function\n",
    "from sklearn.utils import shuffle\n",
    "\n",
    "# shuffle two arrays in unison\n",
    "X, Y = shuffle(X, Y, random_state=0)\n",
    "print Y.shape, X.shape, len(X), X[4], Y[4]\n",
    "# double check the data type of the two arrays\n",
    "print X.dtype, Y.dtype\n",
    "\n",
    "# Split the imported data into training 75% and development data 25%\n",
    "\n",
    "split = 3*len(X)/4\n",
    "\n",
    "print len(X), split\n",
    "\n",
    "train_data, train_labels = X[:split], Y[:split]\n",
    "dev_data, dev_labels = X[split:], Y[split:]\n",
    "\n",
    "print train_data.shape, train_labels.shape\n",
    "print dev_data.shape, dev_labels.shape\n",
    "print train_data[1], train_labels[1]\n",
    "print dev_data[0], dev_labels[0]\n",
    "# dev_dat=np.array(dev_data)\n",
    "# print dev_dat.sum()\n",
    "print feaname"
   ]
  },
  {
   "cell_type": "code",
   "execution_count": 3,
   "metadata": {
    "collapsed": false
   },
   "outputs": [
    {
     "name": "stdout",
     "output_type": "stream",
     "text": [
      "('Coefficients: \\n', array([  2.20381901e-01,   1.68341693e-04,  -4.19540740e-04,\n",
      "        -3.78616319e-02,   5.01427332e-03,  -3.54782502e-03,\n",
      "         7.17977462e-02,   5.58138787e-02,   9.39398819e-02,\n",
      "         4.59016920e-03]))\n",
      "Variance score: 0.71\n",
      "(896,) (896,)\n",
      "0.0 361.0 -34.2274461574 388.470127493 -8.86975231664 658.261114197\n"
     ]
    },
    {
     "data": {
      "image/png": "[encoded data removed]",
      "text/plain": [
       "<matplotlib.figure.Figure at 0x104128a50>"
      ]
     },
     "metadata": {},
     "output_type": "display_data"
    }
   ],
   "source": [
    "# try lineary regression mode\n",
    "from sklearn import datasets, linear_model\n",
    "\n",
    "# Create linear regression object\n",
    "regr = linear_model.LinearRegression()\n",
    "\n",
    "# Train the model using the training sets\n",
    "regr.fit(train_data, train_labels)\n",
    "\n",
    "# The coefficients\n",
    "print('Coefficients: \\n', regr.coef_)\n",
    "\n",
    "# score\n",
    "print('Variance score: %.2f' % regr.score(dev_data, dev_labels))\n",
    "\n",
    "# predict the dev data set\n",
    "dev_predictions=regr.predict(dev_data)\n",
    "print dev_predictions.shape, dev_labels.shape\n",
    "train_predict = regr.predict(train_data)\n",
    "# print dev_predictions[0], dev_labels[0]\n",
    "print np.amin(dev_labels), np.amax(dev_labels), np.amin(dev_predictions), np.amax(dev_predictions), np.amin(train_predict), np.amax(train_predict)\n",
    "\n",
    "\n",
    "# visualize predicted vs actual labels\n",
    "import matplotlib.pyplot as plt\n",
    "plt.axis([-40, 850, -40, 850])\n",
    "plt.plot(dev_labels, dev_predictions, 'r.')\n",
    "plt.plot(train_labels, train_predict, 'b.')\n",
    "plt.show()"
   ]
  },
  {
   "cell_type": "markdown",
   "metadata": {},
   "source": [
    "Interpretation of the Linear Regression model: TBD."
   ]
  },
  {
   "cell_type": "code",
   "execution_count": 4,
   "metadata": {
    "collapsed": false,
    "scrolled": true
   },
   "outputs": [
    {
     "name": "stdout",
     "output_type": "stream",
     "text": [
      "(896, 65) (896,)\n",
      "0.712053571429\n",
      "(896,) (896,)\n",
      "0.0 361.0 0.0 238.0 0.0 835.0\n"
     ]
    },
    {
     "name": "stderr",
     "output_type": "stream",
     "text": [
      "/Library/Python/2.7/site-packages/sklearn/linear_model/base.py:239: RuntimeWarning: overflow encountered in exp\n",
      "  np.exp(prob, prob)\n"
     ]
    },
    {
     "data": {
      "image/png": "[encoded data removed]",
      "text/plain": [
       "<matplotlib.figure.Figure at 0x10077d890>"
      ]
     },
     "metadata": {},
     "output_type": "display_data"
    }
   ],
   "source": [
    "# model with logistic regression \n",
    "#\n",
    "logreg = LogisticRegression(penalty='l1', C=1.0, tol=0.01) \n",
    "logreg.fit(train_data, train_labels)\n",
    "\n",
    "# examine predict prob for test data\n",
    "print logreg.predict_proba(dev_data).shape, dev_labels.shape\n",
    "\n",
    "# coeff_ for predictor, e.g., 0th=incentive, 1st=pop, 2nd=household, 3rd=%owning home, etc\n",
    "# vs labels - 0th =0 charging station, 1st =1 charging station etc....\n",
    "# print('Incentive Count vs Count of Charging Stations: \\n', np.transpose(logreg.coef_)[0])\n",
    "\n",
    "# print('Home Ownership Percentage vs Count of Charging Stations: \\n', np.transpose(logreg.coef_)[2])\n",
    "\n",
    "# examine score for test data\n",
    "print logreg.score(dev_data, dev_labels)\n",
    "\n",
    "# predict the dev data set\n",
    "dev_predictions=logreg.predict(dev_data)\n",
    "print dev_predictions.shape, dev_labels.shape\n",
    "train_predict = logreg.predict(train_data)\n",
    "# print dev_predictions[0], dev_labels[0]\n",
    "print np.amin(dev_labels), np.amax(dev_labels), np.amin(dev_predictions), np.amax(dev_predictions), np.amin(train_predict), np.amax(train_predict)\n",
    "\n",
    "\n",
    "# visualize predicted vs actual labels\n",
    "import matplotlib.pyplot as plt\n",
    "plt.axis([0, 850, 0, 850])\n",
    "plt.plot(dev_labels, dev_predictions, 'r.')\n",
    "plt.plot(train_labels, train_predict, 'b.')\n",
    "plt.show()\n"
   ]
  },
  {
   "cell_type": "markdown",
   "metadata": {},
   "source": [
    "Logistic Regression showed very similar score of 71% to the linear regression for test data set. Prediction for test set was much worse than by linear regression and tend to underpredict the outcome. The best explanation I can come up with is that it appears logistic regression somehow overfitted the training set especially for the urban areas with many charging stations."
   ]
  },
  {
   "cell_type": "code",
   "execution_count": 5,
   "metadata": {
    "collapsed": false
   },
   "outputs": [
    {
     "name": "stdout",
     "output_type": "stream",
     "text": [
      "0.881651658897\n"
     ]
    },
    {
     "data": {
      "image/png": "[encoded data removed]",
      "text/plain": [
       "<matplotlib.figure.Figure at 0x105914ad0>"
      ]
     },
     "metadata": {},
     "output_type": "display_data"
    },
    {
     "name": "stdout",
     "output_type": "stream",
     "text": [
      "0.881652837804 1.93285714286 73.9595026786 0.881651658897\n",
      "1. feature 5  Households >$200K (0.449189)\n",
      "2. feature 4  Households $150-200K (0.296416)\n",
      "3. feature 1  Population (0.066700)\n",
      "4. feature 3  % Owning Homes (0.046439)\n",
      "5. feature 2  Households (0.045750)\n",
      "6. feature 7  Total Graduate Degree (0.025590)\n",
      "7. feature 0  Incentive (0.024938)\n",
      "8. feature 6  Total College Grads (0.022184)\n",
      "9. feature 9  Median Income (0.014045)\n",
      "10. feature 8  % College Grads (0.008750)\n"
     ]
    },
    {
     "data": {
      "image/png": "[encoded data removed]",
      "text/plain": [
       "<matplotlib.figure.Figure at 0x105985350>"
      ]
     },
     "metadata": {},
     "output_type": "display_data"
    }
   ],
   "source": [
    "# random forest modeling\n",
    "\n",
    "random = RandomForestRegressor(n_estimators=50)\n",
    "random.fit(train_data, train_labels)\n",
    "\n",
    "# Make predictions on dev data\n",
    "dev_predictions = random.predict(dev_data)\n",
    "# Predict train data to examine if model overfitted\n",
    "train_predict = random.predict(train_data)\n",
    "\n",
    "# examine score for test data\n",
    "print random.score(dev_data, dev_labels)\n",
    "\n",
    "plt.axis([-40, 850, -40, 850])\n",
    "plt.plot(dev_labels, dev_predictions, 'r.')\n",
    "plt.plot(train_labels, train_predict, 'b.')\n",
    "plt.plot([0,0],[500,500],'r-')\n",
    "plt.show()\n",
    "\n",
    "_explained_variance_score = explained_variance_score(dev_labels, dev_predictions)\n",
    "_mean_absolute_error = mean_absolute_error(dev_labels, dev_predictions)\n",
    "_mean_squared_error = mean_squared_error(dev_labels, dev_predictions)\n",
    "_r2_score = r2_score(dev_labels, dev_predictions)\n",
    "\n",
    "print _explained_variance_score, _mean_absolute_error, _mean_squared_error, _r2_score\n",
    "\n",
    "# predicting charging station count for Coppell Texas\n",
    "#X_Coppell=np.array([39551,0.488938333,37.9,22.1,64572,0.721044394])\n",
    "# print random.predict(X_Coppell)\n",
    "\n",
    "# evaluate the importances of the features\n",
    "importances = random.feature_importances_\n",
    "std = np.std([tree.feature_importances_ for tree in random.estimators_],\n",
    "            axis=0)\n",
    "indices = np.argsort(importances)[::-1]\n",
    "\n",
    "for f in range(10):\n",
    "    print(\"%d. feature %d  %s (%f)\" % ( f + 1, indices[f], feaname[indices[f]], importances[indices[f]]))\n",
    "\n",
    "# plot the feature importances\n",
    "plt.figure()\n",
    "plt.title(\"Feature Importances\")\n",
    "plt.bar(range(10), importances[indices], \n",
    "       color='r', yerr=std[indices], align=\"center\")\n",
    "plt.xlim([-1,10])\n",
    "plt.show()"
   ]
  },
  {
   "cell_type": "code",
   "execution_count": 6,
   "metadata": {
    "collapsed": false
   },
   "outputs": [
    {
     "name": "stdout",
     "output_type": "stream",
     "text": [
      "0.717633928571\n"
     ]
    },
    {
     "data": {
      "image/png": "[encoded data removed]",
      "text/plain": [
       "<matplotlib.figure.Figure at 0x1058e9150>"
      ]
     },
     "metadata": {},
     "output_type": "display_data"
    },
    {
     "name": "stdout",
     "output_type": "stream",
     "text": [
      "1. feature 2  Households (0.130740)\n",
      "2. feature 1  Population (0.124822)\n",
      "3. feature 5  Households >$200K (0.115461)\n",
      "4. feature 4  Households $150-200K (0.114798)\n",
      "5. feature 8  % College Grads (0.100085)\n",
      "6. feature 7  Total Graduate Degree (0.090941)\n",
      "7. feature 9  Median Income (0.088993)\n",
      "8. feature 3  % Owning Homes (0.087801)\n",
      "9. feature 6  Total College Grads (0.082868)\n",
      "10. feature 0  Incentive (0.063492)\n"
     ]
    },
    {
     "data": {
      "image/png": "[encoded data removed]",
      "text/plain": [
       "<matplotlib.figure.Figure at 0x10591b510>"
      ]
     },
     "metadata": {},
     "output_type": "display_data"
    }
   ],
   "source": [
    "# try to rank importance of features from 250 Decision Trees \n",
    "from sklearn.ensemble import ExtraTreesClassifier\n",
    "\n",
    "forest = ExtraTreesClassifier(n_estimators=250, random_state=0)\n",
    "# fit the whole data set and calcualte feature importances\n",
    "forest.fit(train_data, train_labels)\n",
    "\n",
    "# Make predictions on dev data\n",
    "dev_predictions = forest.predict(dev_data)\n",
    "# Predict train data to examine if model overfitted\n",
    "train_predict = forest.predict(train_data)\n",
    "\n",
    "# examine score for test data\n",
    "print forest.score(dev_data, dev_labels)\n",
    "\n",
    "plt.axis([-40, 850, -40, 850])\n",
    "plt.plot(dev_labels, dev_predictions, 'r.')\n",
    "plt.plot(train_labels, train_predict, 'b.')\n",
    "plt.show()\n",
    "\n",
    "importances = forest.feature_importances_\n",
    "std = np.std([tree.feature_importances_ for tree in forest.estimators_],\n",
    "            axis=0)\n",
    "indices = np.argsort(importances)[::-1]\n",
    "\n",
    "for f in range(10):\n",
    "    print(\"%d. feature %d  %s (%f)\" % ( f + 1, indices[f], feaname[indices[f]], importances[indices[f]]))\n",
    "\n",
    "# plot the feature importances\n",
    "plt.figure()\n",
    "plt.title(\"Feature Importances\")\n",
    "plt.bar(range(10), importances[indices], \n",
    "       color='r', yerr=std[indices], align=\"center\")\n",
    "plt.xlim([-1,10])\n",
    "plt.show()"
   ]
  },
  {
   "cell_type": "code",
   "execution_count": 8,
   "metadata": {
    "collapsed": false
   },
   "outputs": [
    {
     "name": "stdout",
     "output_type": "stream",
     "text": [
      "(41, 10) (41,) (41,)\n",
      "[[  4.86620000e+02   4.02000000e+02   8.46200000e+01   2.00000000e+00\n",
      "    1.83512950e+07   6.64628300e+06   5.08901291e+01   5.13962000e+05\n",
      "    6.35964000e+05   1.60000000e+01   1.51000000e+01   3.66000000e+01\n",
      "    2.49000000e+01]\n",
      " [  6.50520000e+02   8.35000000e+02  -1.84480000e+02   1.50000000e+01\n",
      "    1.21509960e+07   3.97314300e+06   4.81882479e+01   2.48777000e+05\n",
      "    2.74291000e+05   9.50000000e+00   1.05000000e+01   3.05000000e+01\n",
      "    2.62000000e+01]\n",
      " [  3.39400000e+02   3.48000000e+02  -8.60000000e+00   3.00000000e+00\n",
      "    8.60820800e+06   3.12245100e+06   6.49951913e+01   1.96208000e+05\n",
      "    2.07875000e+05   1.40000000e+01   1.37000000e+01   3.54000000e+01\n",
      "    2.40000000e+01]\n",
      " [  1.82480000e+02   1.49000000e+02   3.34800000e+01   3.00000000e+00\n",
      "    5.50237900e+06   1.99992100e+06   6.30995924e+01   8.51680000e+04\n",
      "    9.77910000e+04   8.30000000e+00   1.07000000e+01   2.90000000e+01\n",
      "    2.42000000e+01]\n",
      " [  1.94100000e+02   1.63000000e+02   3.11000000e+01   2.00000000e+00\n",
      "    5.44156700e+06   2.03902300e+06   6.72296977e+01   1.38389000e+05\n",
      "    1.35724000e+05   1.34000000e+01   1.36000000e+01   3.39000000e+01\n",
      "    2.33000000e+01]\n",
      " [  2.06380000e+02   2.38000000e+02  -3.16200000e+01   3.00000000e+00\n",
      "    5.12189200e+06   1.87067800e+06   5.85889715e+01   1.04377000e+05\n",
      "    1.07011000e+05   9.10000000e+00   1.07000000e+01   3.21000000e+01\n",
      "    2.76000000e+01]\n",
      " [  1.81600000e+02   1.36000000e+02   4.56000000e+01   3.00000000e+00\n",
      "    4.94433200e+06   1.72299700e+06   5.97898894e+01   1.06343000e+05\n",
      "    1.16042000e+05   8.60000000e+00   1.07000000e+01   3.05000000e+01\n",
      "    2.69000000e+01]\n",
      " [  3.05520000e+02   2.93000000e+02   1.25200000e+01   2.00000000e+00\n",
      "    4.58677000e+06   1.71522700e+06   6.17139306e+01   1.99565000e+05\n",
      "    2.51659000e+05   1.94000000e+01   2.50000000e+01   5.10000000e+01\n",
      "    4.25000000e+01]\n",
      " [  1.73860000e+02   2.81000000e+02  -1.07140000e+02   5.00000000e+00\n",
      "    4.51541900e+06   1.64507600e+06   6.37256273e+01   9.59910000e+04\n",
      "    9.72510000e+04   1.02000000e+01   1.33000000e+01   3.76000000e+01\n",
      "    2.78000000e+01]\n",
      " [  2.72840000e+02   2.58000000e+02   1.48400000e+01   1.00000000e+00\n",
      "    4.18101900e+06   1.61042600e+06   6.00983218e+01   1.40145000e+05\n",
      "    1.55288000e+05   1.83000000e+01   1.93000000e+01   4.34000000e+01\n",
      "    2.80000000e+01]\n",
      " [  1.30620000e+02   1.24000000e+02   6.62000000e+00   5.00000000e+00\n",
      "    3.73409000e+06   1.44071400e+06   6.88659234e+01   6.84530000e+04\n",
      "    5.89270000e+04   8.90000000e+00   1.14000000e+01   2.86000000e+01\n",
      "    2.03000000e+01]\n",
      " [  2.15860000e+02   2.38000000e+02  -2.21400000e+01   6.00000000e+00\n",
      "    3.62911400e+06   1.35390300e+06   6.24276628e+01   6.19650000e+04\n",
      "    5.76320000e+04   8.10000000e+00   1.06000000e+01   2.98000000e+01\n",
      "    2.66000000e+01]\n",
      " [  4.12780000e+02   4.20000000e+02  -7.22000000e+00   1.50000000e+01\n",
      "    3.28121200e+06   1.24790200e+06   4.99087268e+01   1.12370000e+05\n",
      "    1.54016000e+05   1.68000000e+01   1.81000000e+01   4.49000000e+01\n",
      "    3.46000000e+01]\n",
      " [  2.03280000e+02   3.61000000e+02  -1.57720000e+02   2.00000000e+00\n",
      "    3.05939300e+06   1.23158300e+06   5.86075807e+01   8.92090000e+04\n",
      "    8.78920000e+04   1.37000000e+01   1.44000000e+01   3.96000000e+01\n",
      "    3.27000000e+01]\n",
      " [  2.72240000e+02   2.35000000e+02   3.72400000e+01   1.50000000e+01\n",
      "    2.95674600e+06   1.03343000e+06   5.29533689e+01   7.24030000e+04\n",
      "    6.90320000e+04   9.50000000e+00   1.32000000e+01   3.49000000e+01\n",
      "    3.15000000e+01]\n",
      " [  1.56760000e+02   1.47000000e+02   9.76000000e+00   3.00000000e+00\n",
      "    2.65089000e+06   1.05835400e+06   6.80374430e+01   7.10260000e+04\n",
      "    6.70800000e+04   1.55000000e+01   1.41000000e+01   4.14000000e+01\n",
      "    2.96000000e+01]\n",
      " [  1.24300000e+02   1.23000000e+02   1.30000000e+00   3.00000000e+00\n",
      "    2.44177000e+06   9.90572000e+05   6.45688552e+01   3.82810000e+04\n",
      "    3.64020000e+04   8.20000000e+00   9.60000000e+00   2.78000000e+01\n",
      "    2.19000000e+01]\n",
      " [  1.51860000e+02   1.31000000e+02   2.08600000e+01   3.00000000e+00\n",
      "    2.37420300e+06   9.45127000e+05   6.24713927e+01   5.88410000e+04\n",
      "    5.58830000e+04   1.31000000e+01   1.36000000e+01   3.88000000e+01\n",
      "    3.18000000e+01]\n",
      " [  1.59680000e+02   1.69000000e+02  -9.32000000e+00   7.00000000e+00\n",
      "    2.20366300e+06   8.45706000e+05   6.24933488e+01   6.26410000e+04\n",
      "    5.95250000e+04   1.38000000e+01   1.58000000e+01   3.61000000e+01\n",
      "    2.63000000e+01]\n",
      " [  9.21600000e+01   4.90000000e+01   4.31600000e+01   0.00000000e+00\n",
      "    2.15070600e+06   8.61083000e+05   6.76847644e+01   4.43910000e+04\n",
      "    3.97410000e+04   1.21000000e+01   1.34000000e+01   3.43000000e+01\n",
      "    2.39000000e+01]\n",
      " [  7.69400000e+01   6.80000000e+01   8.94000000e+00   1.50000000e+01\n",
      "    1.93266600e+06   5.47347000e+05   6.28051309e+01   2.91150000e+04\n",
      "    1.93280000e+04   4.80000000e+00   6.70000000e+00   1.85000000e+01\n",
      "    1.79000000e+01]\n",
      " [  6.87200000e+01   5.60000000e+01   1.27200000e+01   3.00000000e+00\n",
      "    1.88601100e+06   6.86226000e+05   5.40623643e+01   2.90680000e+04\n",
      "    2.33650000e+04   5.30000000e+00   7.30000000e+00   2.23000000e+01\n",
      "    2.21000000e+01]\n",
      " [  2.04360000e+02   2.44000000e+02  -3.96400000e+01   2.00000000e+00\n",
      "    1.84989800e+06   7.35791000e+05   5.84300433e+01   3.87790000e+04\n",
      "    3.38840000e+04   1.00000000e+01   1.35000000e+01   3.67000000e+01\n",
      "    3.02000000e+01]\n",
      " [  3.59800000e+01   2.30000000e+01   1.29800000e+01   0.00000000e+00\n",
      "    1.78067300e+06   7.33600000e+05   6.53784079e+01   2.97170000e+04\n",
      "    2.86300000e+04   1.17000000e+01   1.19000000e+01   3.07000000e+01\n",
      "    2.05000000e+01]\n",
      " [  7.87400000e+01   7.20000000e+01   6.74000000e+00   3.00000000e+00\n",
      "    1.75821000e+06   6.23911000e+05   5.97114012e+01   2.50030000e+04\n",
      "    2.23700000e+04   7.00000000e+00   9.80000000e+00   2.69000000e+01\n",
      "    2.25000000e+01]\n",
      " [  8.43000000e+01   7.40000000e+01   1.03000000e+01   2.00000000e+00\n",
      "    1.73385300e+06   7.39068000e+05   6.73655198e+01   3.35970000e+04\n",
      "    3.15660000e+04   1.75000000e+01   1.33000000e+01   3.38000000e+01\n",
      "    1.95000000e+01]\n",
      " [  1.70780000e+02   1.26000000e+02   4.47800000e+01   1.50000000e+01\n",
      "    1.72363400e+06   6.33379000e+05   5.90254808e+01   3.97580000e+04\n",
      "    2.97520000e+04   7.00000000e+00   1.00000000e+01   3.01000000e+01\n",
      "    2.67000000e+01]\n",
      " [  2.51120000e+02   2.32000000e+02   1.91200000e+01   1.50000000e+01\n",
      "    1.66449600e+06   5.72002000e+05   5.67901861e+01   6.42540000e+04\n",
      "    9.27040000e+04   1.54000000e+01   2.13000000e+01   4.74000000e+01\n",
      "    3.77000000e+01]\n",
      " [  5.79000000e+01   3.20000000e+01   2.59000000e+01   0.00000000e+00\n",
      "    1.62482700e+06   6.34071000e+05   6.51908067e+01   3.34970000e+04\n",
      "    2.90120000e+04   1.16000000e+01   1.22000000e+01   3.30000000e+01\n",
      "    2.35000000e+01]\n",
      " [  1.25600000e+02   1.67000000e+02  -4.14000000e+01   0.00000000e+00\n",
      "    1.51941700e+06   6.06689000e+05   6.39190755e+01   3.05870000e+04\n",
      "    2.64250000e+04   1.28000000e+01   1.29000000e+01   3.55000000e+01\n",
      "    2.58000000e+01]\n",
      " [  1.07020000e+02   1.27000000e+02  -1.99800000e+01   3.00000000e+00\n",
      "    1.51051600e+06   5.47111000e+05   6.13317956e+01   2.39100000e+04\n",
      "    2.21380000e+04   1.05000000e+01   1.04000000e+01   3.15000000e+01\n",
      "    2.40000000e+01]\n",
      " [  6.15200000e+01   6.30000000e+01  -1.48000000e+00   2.00000000e+00\n",
      "    1.48748300e+06   5.77679000e+05   6.39590499e+01   2.55270000e+04\n",
      "    2.45610000e+04   1.17000000e+01   1.15000000e+01   3.35000000e+01\n",
      "    2.28000000e+01]\n",
      " [  7.87000000e+01   3.40000000e+01   4.47000000e+01   3.00000000e+00\n",
      "    1.43966600e+06   5.33967000e+05   6.02548472e+01   2.65530000e+04\n",
      "    1.95580000e+04   7.80000000e+00   1.03000000e+01   2.83000000e+01\n",
      "    2.22000000e+01]\n",
      " [  5.52600000e+01   4.20000000e+01   1.32600000e+01   2.00000000e+00\n",
      "    1.37647600e+06   5.50178000e+05   5.88100578e+01   2.39220000e+04\n",
      "    2.21210000e+04   1.15000000e+01   1.11000000e+01   3.25000000e+01\n",
      "    2.24000000e+01]\n",
      " [  6.08600000e+01   3.50000000e+01   2.58600000e+01   0.00000000e+00\n",
      "    1.36803500e+06   5.42626000e+05   5.83704061e+01   2.83580000e+04\n",
      "    2.57890000e+04   1.39000000e+01   1.37000000e+01   3.86000000e+01\n",
      "    2.67000000e+01]\n",
      " [  1.28620000e+02   1.24000000e+02   4.62000000e+00   3.00000000e+00\n",
      "    1.36241600e+06   5.35026000e+05   5.49720948e+01   3.26210000e+04\n",
      "    3.46030000e+04   1.30000000e+01   1.52000000e+01   4.38000000e+01\n",
      "    3.91000000e+01]\n",
      " [  6.17200000e+01   5.90000000e+01   2.72000000e+00   1.00000000e+00\n",
      "    1.24944200e+06   4.83928000e+05   6.41868212e+01   2.78300000e+04\n",
      "    3.25010000e+04   1.23000000e+01   1.24000000e+01   3.98000000e+01\n",
      "    2.74000000e+01]\n",
      " [  6.36200000e+01   7.10000000e+01  -7.38000000e+00   1.00000000e+00\n",
      "    1.19095600e+06   4.65355000e+05   5.92702345e+01   2.54610000e+04\n",
      "    2.00360000e+04   1.16000000e+01   1.15000000e+01   2.97000000e+01\n",
      "    2.04000000e+01]\n",
      " [  6.83200000e+01   2.10000000e+01   4.73200000e+01   3.00000000e+00\n",
      "    1.06521900e+06   4.03810000e+05   6.45439687e+01   1.65070000e+04\n",
      "    1.62050000e+04   9.00000000e+00   9.00000000e+00   2.86000000e+01\n",
      "    2.50000000e+01]\n",
      " [  6.70400000e+01   2.60000000e+01   4.10400000e+01   2.00000000e+00\n",
      "    1.06006100e+06   3.92467000e+05   5.96702398e+01   1.47770000e+04\n",
      "    1.37040000e+04   7.70000000e+00   1.00000000e+01   2.74000000e+01\n",
      "    2.07000000e+01]\n",
      " [  4.73000000e+01   4.60000000e+01   1.30000000e+00   3.00000000e+00\n",
      "    1.02124300e+06   3.41144000e+05   6.72091551e+01   1.65850000e+04\n",
      "    1.43290000e+04   7.50000000e+00   1.06000000e+01   3.09000000e+01\n",
      "    2.80000000e+01]]\n"
     ]
    }
   ],
   "source": [
    "# import pandas\n",
    "# to do's Friday night - use case - predict the most potential urban areas for EV adoption or growth\n",
    "# use the best model - random forest model with the 10 attributes to:\n",
    "# predict top urban area EV pravalence or CS counts\n",
    "# write the predicted CS counts with numpy savetxt() - add a new column \"Predicted Station Count\"\n",
    "# merge with the unparsed data with long/lat data \n",
    "# sort based on the difference of predicted versus actual counts\n",
    "# the bigger the predicted - actual, the more potential there is for the urban area to adopt EV\n",
    "# \n",
    "#load top urban area data with the same selected attributes as the first part of the modeling\n",
    "X = np.loadtxt(\"data/parsed_top_urban_areas_data.csv\",delimiter = ',',usecols = (1,2,3,4,5,6,7,8,9,10)) \n",
    "# load the actual labels\n",
    "Y_actual = np.loadtxt(\"data/parsed_top_urban_areas_data.csv\",delimiter = ',',usecols = (0,),dtype=float)  \n",
    "\n",
    "# predict charging station counts based on Random Forest model previously\n",
    "Y_predict = random.predict(X)\n",
    "\n",
    "print X.shape, Y_actual.T.shape, Y_predict.T.shape\n",
    "\n",
    "X1=np.column_stack((Y_predict, Y_actual, Y_predict-Y_actual, X))\n",
    "# print X1\n",
    "\n",
    "np.savetxt('predicted_top_urban_areas.csv', X1, fmt='%f',delimiter=',',newline='\\n',header='',footer='')\n",
    "\n"
   ]
  },
  {
   "cell_type": "code",
   "execution_count": null,
   "metadata": {
    "collapsed": true
   },
   "outputs": [],
   "source": []
  }
 ],
 "metadata": {
  "kernelspec": {
   "display_name": "Python 2",
   "language": "python",
   "name": "python2"
  },
  "language_info": {
   "codemirror_mode": {
    "name": "ipython",
    "version": 2
   },
   "file_extension": ".py",
   "mimetype": "text/x-python",
   "name": "python",
   "nbconvert_exporter": "python",
   "pygments_lexer": "ipython2",
   "version": "2.7.6"
  }
 },
 "nbformat": 4,
 "nbformat_minor": 0
}
